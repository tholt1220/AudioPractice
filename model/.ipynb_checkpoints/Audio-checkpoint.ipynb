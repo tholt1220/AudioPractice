{
 "cells": [
  {
   "cell_type": "code",
   "execution_count": 41,
   "metadata": {
    "scrolled": true
   },
   "outputs": [],
   "source": [
    "import librosa\n",
    "import io\n",
    "import soundfile as sf\n",
    "import zipfile as zf\n",
    "import os\n",
    "from pydub import AudioSegment\n",
    "import sys"
   ]
  },
  {
   "cell_type": "code",
   "execution_count": 42,
   "metadata": {},
   "outputs": [],
   "source": [
    "#     argc = len(sys.argv)\n",
    "#     if argc == 1:\n",
    "#         print(\"Error: No file given\")\n",
    "#         return \n",
    "#     elif argc > 2:\n",
    "#         print(\"Error: Multiple files given\")\n",
    "#         return \n",
    "#     else:\n",
    "#         mp3_file = sys.argv[1]\n",
    "\n",
    "src = \"Little Foot.mp3\"\n",
    "# convert wav to mp3\n",
    "if src.endswith('.mp3'):\n",
    "    sound = AudioSegment.from_mp3(src)\n",
    "elif src.endswith('.wav'):\n",
    "    sound = AudioSegment.from_wav(src)\n",
    "else:\n",
    "    print(\"Error: only supports .mp3 or .wav types\")"
   ]
  },
  {
   "cell_type": "code",
   "execution_count": 37,
   "metadata": {},
   "outputs": [
    {
     "name": "stdout",
     "output_type": "stream",
     "text": [
      "Estimated tempo: 103.36 beats per minute\n"
     ]
    }
   ],
   "source": [
    "# 2. Load the audio as a waveform `y`\n",
    "#    Store the sampling rate as `sr`\n",
    "y, sr = librosa.load(src)\n",
    "\n",
    "# 3. Run the default beat tracker\n",
    "original_tempo, beat_frames = librosa.beat.beat_track(y=y, sr=sr)\n",
    "\n",
    "print('Estimated tempo: {:.2f} beats per minute'.format(tempo))\n",
    "\n",
    "# # 4. Convert the frame indices of beat events into timestamps\n",
    "# beat_times = librosa.frames_to_time(beat_frames, sr=sr)"
   ]
  },
  {
   "cell_type": "code",
   "execution_count": 61,
   "metadata": {},
   "outputs": [
    {
     "data": {
      "text/plain": [
       "<_io.BufferedRandom name='Little Foot_110.mp3'>"
      ]
     },
     "execution_count": 61,
     "metadata": {},
     "output_type": "execute_result"
    }
   ],
   "source": [
    "goal = 110\n",
    "factor = float(goal) / original_tempo\n",
    "octaves = 0.5\n",
    "new_sample_rate = int(sound.frame_rate * factor)\n",
    "chipmunk_sound = sound._spawn(sound.raw_data, overrides={'frame_rate': new_sample_rate})\n",
    "\n",
    "chipmunk_sound.set_frame_rate(sound.frame_rate)\n",
    "\n",
    "\n",
    "filename, filetype = os.path.splitext(src)\n",
    "new_name = filename + \"_\" + str(goal) + filetype\n",
    "chipmunk_sound.export(new_name, format=\"wav\")"
   ]
  },
  {
   "cell_type": "code",
   "execution_count": 29,
   "metadata": {},
   "outputs": [
    {
     "name": "stderr",
     "output_type": "stream",
     "text": [
      "C:\\Users\\Trevor Holt\\Anaconda3\\envs\\py37\\lib\\site-packages\\librosa\\core\\audio.py:146: UserWarning: PySoundFile failed. Trying audioread instead.\n",
      "  warnings.warn('PySoundFile failed. Trying audioread instead.')\n"
     ]
    },
    {
     "name": "stdout",
     "output_type": "stream",
     "text": [
      "Estimated tempo: 103.36 beats per minute\n"
     ]
    }
   ],
   "source": []
  },
  {
   "cell_type": "code",
   "execution_count": null,
   "metadata": {},
   "outputs": [],
   "source": []
  }
 ],
 "metadata": {
  "kernelspec": {
   "display_name": "Python 3",
   "language": "python",
   "name": "python3"
  },
  "language_info": {
   "codemirror_mode": {
    "name": "ipython",
    "version": 3
   },
   "file_extension": ".py",
   "mimetype": "text/x-python",
   "name": "python",
   "nbconvert_exporter": "python",
   "pygments_lexer": "ipython3",
   "version": "3.7.4"
  }
 },
 "nbformat": 4,
 "nbformat_minor": 2
}
