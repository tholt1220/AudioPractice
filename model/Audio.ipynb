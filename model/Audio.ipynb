{
 "cells": [
  {
   "cell_type": "code",
   "execution_count": 1,
   "metadata": {
    "scrolled": true
   },
   "outputs": [],
   "source": [
    "import librosa\n",
    "import io\n",
    "import soundfile as sf\n",
    "import zipfile as zf\n",
    "import os\n",
    "from pydub import AudioSegment\n",
    "import sys\n",
    "import pyrubberband\n",
    "import pydub\n",
    "import ffmpeg"
   ]
  },
  {
   "cell_type": "code",
   "execution_count": 2,
   "metadata": {},
   "outputs": [],
   "source": [
    "#     argc = len(sys.argv)\n",
    "#     if argc == 1:\n",
    "#         print(\"Error: No file given\")\n",
    "#         return \n",
    "#     elif argc > 2:\n",
    "#         print(\"Error: Multiple files given\")\n",
    "#         return \n",
    "#     else:\n",
    "#         mp3_file = sys.argv[1]\n",
    "\n",
    "src = argv[1]\n",
    "# convert wav to mp3\n",
    "if src.endswith('.mp3'):\n",
    "    sound = AudioSegment.from_mp3(src)\n",
    "elif src.endswith('.wav'):\n",
    "    sound = AudioSegment.from_wav(src)\n",
    "else:\n",
    "    print(\"Error: only supports .mp3 or .wav types\")"
   ]
  },
  {
   "cell_type": "code",
   "execution_count": 3,
   "metadata": {},
   "outputs": [
    {
     "name": "stderr",
     "output_type": "stream",
     "text": [
      "C:\\Users\\Trevor Holt\\Anaconda3\\envs\\py37\\lib\\site-packages\\librosa\\core\\audio.py:146: UserWarning: PySoundFile failed. Trying audioread instead.\n",
      "  warnings.warn('PySoundFile failed. Trying audioread instead.')\n"
     ]
    },
    {
     "name": "stdout",
     "output_type": "stream",
     "text": [
      "Estimated tempo: 112.35 beats per minute\n"
     ]
    }
   ],
   "source": [
    "# 2. Load the audio as a waveform `y`\n",
    "#    Store the sampling rate as `sr`\n",
    "y, sr = librosa.load(src)\n",
    "\n",
    "# 3. Run the default beat tracker\n",
    "original_tempo, beat_frames = librosa.beat.beat_track(y=y, sr=sr)\n",
    "\n",
    "print('Estimated tempo: {:.2f} beats per minute'.format(original_tempo))\n",
    "\n",
    "# # 4. Convert the frame indices of beat events into timestamps\n",
    "# beat_times = librosa.frames_to_time(beat_frames, sr=sr)\n",
    "# print(beat_times)"
   ]
  },
  {
   "cell_type": "code",
   "execution_count": 4,
   "metadata": {},
   "outputs": [
    {
     "name": "stdout",
     "output_type": "stream",
     "text": [
      "1.023613000755858\n"
     ]
    }
   ],
   "source": [
    "goal = argv[2]\n",
    "factor = float(goal) / original_tempo\n",
    "print(factor)"
   ]
  },
  {
   "cell_type": "code",
   "execution_count": 8,
   "metadata": {},
   "outputs": [
    {
     "name": "stdout",
     "output_type": "stream",
     "text": [
      "ffmpeg -i robot_rock_original.mp3 -filter:a \"atempo=1.023613\" -vn robot_rock_original_115.mp3\n"
     ]
    },
    {
     "data": {
      "text/plain": [
       "0"
      ]
     },
     "execution_count": 8,
     "metadata": {},
     "output_type": "execute_result"
    }
   ],
   "source": [
    "filename, filetype = os.path.splitext(src)\n",
    "new_name = filename + \"_\" + str(goal) + filetype\n",
    "command = 'ffmpeg -i %s -filter:a \"atempo=%f\" -vn %s' %(src, factor, new_name)\n",
    "print(command)\n",
    "os.system('cmd /c \"%s\"'%command)"
   ]
  },
  {
   "cell_type": "code",
   "execution_count": 13,
   "metadata": {},
   "outputs": [],
   "source": [
    "# y_new = librosa.effects.time_stretch(y, 1)\n",
    "# filename, filetype = os.path.splitext(src)\n",
    "# new_name = filename + \"_\" + str(goal) + \"_librosa\" + \".wav\"\n",
    "\n",
    "# sf.write(new_name, y_new, sr)"
   ]
  },
  {
   "cell_type": "code",
   "execution_count": null,
   "metadata": {},
   "outputs": [],
   "source": [
    "# new_sample_rate = int(sound.frame_rate * factor)\n",
    "# chipmunk_sound = sound._spawn(sound.raw_data, overrides={'frame_rate': new_sample_rate})\n",
    "# chipmunk_sound.set_frame_rate(sound.frame_rate)\n",
    "\n",
    "\n",
    "# filename, filetype = os.path.splitext(src)\n",
    "# new_name = filename + \"_\" + str(goal) + \"_pydub\" + \".mp3\"\n",
    "# chipmunk_sound.export(new_name, format=\"wav\")"
   ]
  },
  {
   "cell_type": "code",
   "execution_count": 50,
   "metadata": {
    "scrolled": true
   },
   "outputs": [
    {
     "data": {
      "text/plain": [
       "<_io.BufferedRandom name='Little Foot_110_pydubeffects.mp3'>"
      ]
     },
     "execution_count": 50,
     "metadata": {},
     "output_type": "execute_result"
    }
   ],
   "source": [
    "# new_sound = pydub.effects.speedup(sound, playback_speed = factor)\n",
    "# new_name = filename + \"_\" + str(goal) + \"_pydubeffects\" + filetype\n",
    "# new_sound.export(new_name, format=\"wav\")"
   ]
  },
  {
   "cell_type": "code",
   "execution_count": 52,
   "metadata": {},
   "outputs": [
    {
     "ename": "NameError",
     "evalue": "name 'np' is not defined",
     "output_type": "error",
     "traceback": [
      "\u001b[1;31m---------------------------------------------------------------------------\u001b[0m",
      "\u001b[1;31mNameError\u001b[0m                                 Traceback (most recent call last)",
      "\u001b[1;32m<ipython-input-52-3775664b4587>\u001b[0m in \u001b[0;36m<module>\u001b[1;34m\u001b[0m\n\u001b[0;32m     21\u001b[0m     \u001b[0mresult\u001b[0m\u001b[1;33m=\u001b[0m\u001b[1;33m(\u001b[0m\u001b[1;33m(\u001b[0m\u001b[1;36m2\u001b[0m\u001b[1;33m**\u001b[0m\u001b[1;33m(\u001b[0m\u001b[1;36m16\u001b[0m\u001b[1;33m-\u001b[0m\u001b[1;36m4\u001b[0m\u001b[1;33m)\u001b[0m\u001b[1;33m)\u001b[0m\u001b[1;33m*\u001b[0m\u001b[0mresult\u001b[0m\u001b[1;33m/\u001b[0m\u001b[0mresult\u001b[0m\u001b[1;33m.\u001b[0m\u001b[0mmax\u001b[0m\u001b[1;33m(\u001b[0m\u001b[1;33m)\u001b[0m\u001b[1;33m)\u001b[0m\u001b[1;33m\u001b[0m\u001b[1;33m\u001b[0m\u001b[0m\n\u001b[0;32m     22\u001b[0m     \u001b[1;32mreturn\u001b[0m \u001b[0mnp\u001b[0m\u001b[1;33m.\u001b[0m\u001b[0mint16\u001b[0m\u001b[1;33m(\u001b[0m\u001b[0mresult\u001b[0m\u001b[1;33m)\u001b[0m\u001b[1;33m\u001b[0m\u001b[1;33m\u001b[0m\u001b[0m\n\u001b[1;32m---> 23\u001b[1;33m \u001b[0mnew_sound\u001b[0m \u001b[1;33m=\u001b[0m \u001b[0mtimestretch\u001b[0m\u001b[1;33m(\u001b[0m\u001b[0my\u001b[0m\u001b[1;33m,\u001b[0m \u001b[1;36m15\u001b[0m\u001b[1;33m,\u001b[0m \u001b[0mfactor\u001b[0m\u001b[1;33m)\u001b[0m\u001b[1;33m\u001b[0m\u001b[1;33m\u001b[0m\u001b[0m\n\u001b[0m",
      "\u001b[1;32m<ipython-input-52-3775664b4587>\u001b[0m in \u001b[0;36mtimestretch\u001b[1;34m(soundarray, chunck, factor)\u001b[0m\n\u001b[0;32m      2\u001b[0m     \u001b[1;31m#basically 3/4 of one chunck is overlapped with next chunck\u001b[0m\u001b[1;33m\u001b[0m\u001b[1;33m\u001b[0m\u001b[1;33m\u001b[0m\u001b[0m\n\u001b[0;32m      3\u001b[0m     \u001b[0mhop\u001b[0m\u001b[1;33m=\u001b[0m\u001b[0mchunck\u001b[0m\u001b[1;33m/\u001b[0m\u001b[1;36m4\u001b[0m\u001b[1;33m\u001b[0m\u001b[1;33m\u001b[0m\u001b[0m\n\u001b[1;32m----> 4\u001b[1;33m     \u001b[0mphase\u001b[0m\u001b[1;33m=\u001b[0m\u001b[0mnp\u001b[0m\u001b[1;33m.\u001b[0m\u001b[0mzeros\u001b[0m\u001b[1;33m(\u001b[0m\u001b[0mchunck\u001b[0m\u001b[1;33m)\u001b[0m\u001b[1;33m\u001b[0m\u001b[1;33m\u001b[0m\u001b[0m\n\u001b[0m\u001b[0;32m      5\u001b[0m     \u001b[0mhanning\u001b[0m\u001b[1;33m=\u001b[0m\u001b[0mnp\u001b[0m\u001b[1;33m.\u001b[0m\u001b[0mhanning\u001b[0m\u001b[1;33m(\u001b[0m\u001b[0mchunck\u001b[0m\u001b[1;33m)\u001b[0m\u001b[1;33m\u001b[0m\u001b[1;33m\u001b[0m\u001b[0m\n\u001b[0;32m      6\u001b[0m     \u001b[0mresult\u001b[0m\u001b[1;33m=\u001b[0m\u001b[0mnp\u001b[0m\u001b[1;33m.\u001b[0m\u001b[0mzeros\u001b[0m\u001b[1;33m(\u001b[0m\u001b[0mlen\u001b[0m\u001b[1;33m(\u001b[0m\u001b[0msoundarray\u001b[0m\u001b[1;33m)\u001b[0m\u001b[1;33m/\u001b[0m\u001b[0mfactor\u001b[0m\u001b[1;33m+\u001b[0m\u001b[0mchunck\u001b[0m\u001b[1;33m,\u001b[0m\u001b[0mdtype\u001b[0m\u001b[1;33m=\u001b[0m\u001b[0mcomplex\u001b[0m\u001b[1;33m)\u001b[0m\u001b[1;33m\u001b[0m\u001b[1;33m\u001b[0m\u001b[0m\n",
      "\u001b[1;31mNameError\u001b[0m: name 'np' is not defined"
     ]
    }
   ],
   "source": [
    "# def timestretch(soundarray,chunck,factor):    \n",
    "#     #basically 3/4 of one chunck is overlapped with next chunck\n",
    "#     hop=chunck/4    \n",
    "#     phase=np.zeros(chunck)\n",
    "#     hanning=np.hanning(chunck)\n",
    "#     result=np.zeros(len(soundarray)/factor+chunck,dtype=complex)\n",
    "#     for i in np.arange(0,len(soundarray)-(chunck+hop),hop*factor):\n",
    "#         a1=soundarray[i:i+chunck]\n",
    "#         a2=soundarray[i+hop:i+chunck+hop]\n",
    "#         #take Fourier Transform \n",
    "#         #Use Hanning window to help with overlap \n",
    "#         s1=fft(hanning*a1)\n",
    "#         s2=fft(hanning*a2)\n",
    "#         #this is critical since phase changes when we stretch signal \n",
    "#         phase=(phase+np.angle(s1/s2))%2*np.pi\n",
    "#         a2_rephased=ifft(np.abs(s2)*np.exp(1j*phase))\n",
    "        \n",
    "#         i2=int(i/factor)\n",
    "#         #resynthesis \n",
    "#         result[i2:i2+chunck]+=hanning*a2_rephased\n",
    "#     result=((2**(16-4))*result/result.max())\n",
    "#     return np.int16(result)\n",
    "# new_sound = timestretch(y, 15, factor)"
   ]
  },
  {
   "cell_type": "code",
   "execution_count": null,
   "metadata": {},
   "outputs": [],
   "source": []
  }
 ],
 "metadata": {
  "kernelspec": {
   "display_name": "Python 3",
   "language": "python",
   "name": "python3"
  },
  "language_info": {
   "codemirror_mode": {
    "name": "ipython",
    "version": 3
   },
   "file_extension": ".py",
   "mimetype": "text/x-python",
   "name": "python",
   "nbconvert_exporter": "python",
   "pygments_lexer": "ipython3",
   "version": "3.7.4"
  }
 },
 "nbformat": 4,
 "nbformat_minor": 2
}
